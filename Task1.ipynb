{
 "cells": [
  {
   "cell_type": "markdown",
   "id": "756c12d0-3052-4be5-92bd-aefc498173dc",
   "metadata": {},
   "source": [
    "# Shopping Mall Customer Segmentation Data preprocessing using Imputer , Standarization and Normalization"
   ]
  },
  {
   "cell_type": "code",
   "execution_count": 16,
   "id": "e91c1d20-0fd9-4cfa-816e-4acd5081ec59",
   "metadata": {},
   "outputs": [],
   "source": [
    "import pandas as pd\n",
    "from sklearn.impute import SimpleImputer\n",
    "from sklearn.preprocessing import StandardScaler, MinMaxScaler"
   ]
  },
  {
   "cell_type": "markdown",
   "id": "851235ea-9b20-463a-aa8a-c4e28ea9e52c",
   "metadata": {},
   "source": [
    "### Load the dataset"
   ]
  },
  {
   "cell_type": "code",
   "execution_count": 17,
   "id": "c3fa02d1-73e1-4ece-bc42-efc9da277724",
   "metadata": {},
   "outputs": [],
   "source": [
    "data = pd.read_csv('Shopping Mall Customer Segmentation Data .csv')"
   ]
  },
  {
   "cell_type": "markdown",
   "id": "ca1550a8-5968-4eb4-8632-83d6ebed5808",
   "metadata": {},
   "source": [
    "### this Display the first few rows and display basic information about the dataset thes Display summary statistics"
   ]
  },
  {
   "cell_type": "code",
   "execution_count": 18,
   "id": "6ca72d8b-8106-4d58-9949-120f6b54a0f2",
   "metadata": {},
   "outputs": [
    {
     "name": "stdout",
     "output_type": "stream",
     "text": [
      "                            Customer ID  Age  Gender  Annual Income  \\\n",
      "0  d410ea53-6661-42a9-ad3a-f554b05fd2a7   30    Male         151479   \n",
      "1  1770b26f-493f-46b6-837f-4237fb5a314e   58  Female         185088   \n",
      "2  e81aa8eb-1767-4b77-87ce-1620dc732c5e   62  Female          70912   \n",
      "3  9795712a-ad19-47bf-8886-4f997d6046e3   23    Male          55460   \n",
      "4  64139426-2226-4cd6-bf09-91bce4b4db5e   24    Male         153752   \n",
      "\n",
      "   Spending Score  \n",
      "0              89  \n",
      "1              95  \n",
      "2              76  \n",
      "3              57  \n",
      "4              76  \n",
      "<class 'pandas.core.frame.DataFrame'>\n",
      "RangeIndex: 15079 entries, 0 to 15078\n",
      "Data columns (total 5 columns):\n",
      " #   Column          Non-Null Count  Dtype \n",
      "---  ------          --------------  ----- \n",
      " 0   Customer ID     15079 non-null  object\n",
      " 1   Age             15079 non-null  int64 \n",
      " 2   Gender          15079 non-null  object\n",
      " 3   Annual Income   15079 non-null  int64 \n",
      " 4   Spending Score  15079 non-null  int64 \n",
      "dtypes: int64(3), object(2)\n",
      "memory usage: 589.2+ KB\n",
      "None\n",
      "                Age  Annual Income  Spending Score\n",
      "count  15079.000000   15079.000000    15079.000000\n",
      "mean      54.191591  109742.880562       50.591617\n",
      "std       21.119207   52249.425866       28.726977\n",
      "min       18.000000   20022.000000        1.000000\n",
      "25%       36.000000   64141.000000       26.000000\n",
      "50%       54.000000  109190.000000       51.000000\n",
      "75%       72.000000  155008.000000       75.000000\n",
      "max       90.000000  199974.000000      100.000000\n"
     ]
    }
   ],
   "source": [
    "print(data.head())\n",
    "print(data.info())\n",
    "print(data.describe())"
   ]
  },
  {
   "cell_type": "markdown",
   "id": "e5d79f9c-3e76-405c-8dde-33feb814e252",
   "metadata": {},
   "source": [
    "### Separate numeric and non-numeric columns and handle missing values using SimpleImputer"
   ]
  },
  {
   "cell_type": "code",
   "execution_count": 19,
   "id": "119f2552-bcc8-4a6d-b0d4-5b056abca0ae",
   "metadata": {},
   "outputs": [],
   "source": [
    "numeric_columns = data.select_dtypes(include=['number']).columns\n",
    "non_numeric_columns = data.select_dtypes(exclude=['number']).columns\n",
    "# Handle missing values in numeric columns using SimpleImputer\n",
    "numeric_imputer = SimpleImputer(strategy='mean')\n",
    "data_numeric_imputed = pd.DataFrame(numeric_imputer.fit_transform(data[numeric_columns]), columns=numeric_columns)\n",
    "# Handle missing values in non-numeric columns using SimpleImputer\n",
    "non_numeric_imputer = SimpleImputer(strategy='most_frequent')\n",
    "data_non_numeric_imputed = pd.DataFrame(non_numeric_imputer.fit_transform(data[non_numeric_columns]), columns=non_numeric_columns)\n",
    "# Combine numeric and non-numeric columns back\n",
    "data_imputed = pd.concat([data_numeric_imputed, data_non_numeric_imputed], axis=1)"
   ]
  },
  {
   "cell_type": "markdown",
   "id": "2d6e5244-429a-4f79-a04b-8b80191b4599",
   "metadata": {},
   "source": [
    "### Standardize the numeric columns"
   ]
  },
  {
   "cell_type": "code",
   "execution_count": 20,
   "id": "e0f490e6-cc09-4888-9e08-4d231a2996dd",
   "metadata": {},
   "outputs": [],
   "source": [
    "scaler = StandardScaler()\n",
    "data_standardized = pd.DataFrame(scaler.fit_transform(data_imputed[numeric_columns]), columns=numeric_columns)"
   ]
  },
  {
   "cell_type": "markdown",
   "id": "f5b75007-b626-4e1a-9a85-2b0e6f1fef58",
   "metadata": {},
   "source": [
    "### Normalize the numeric columns"
   ]
  },
  {
   "cell_type": "code",
   "execution_count": 21,
   "id": "a36c2cf7-65a5-4407-9ff5-8cf5fd29a272",
   "metadata": {},
   "outputs": [],
   "source": [
    "normalizer = MinMaxScaler()\n",
    "data_normalized = pd.DataFrame(normalizer.fit_transform(data_standardized), columns=numeric_columns)"
   ]
  },
  {
   "cell_type": "markdown",
   "id": "21570a47-4eef-474a-8140-57214b2a121c",
   "metadata": {},
   "source": [
    "### Combine standardized and normalized numeric columns with non-numeric columns"
   ]
  },
  {
   "cell_type": "code",
   "execution_count": 22,
   "id": "9df4003f-106c-456e-b7d0-a51b02aff250",
   "metadata": {},
   "outputs": [],
   "source": [
    "data_preprocessed = pd.concat([data_normalized, data_non_numeric_imputed], axis=1)"
   ]
  },
  {
   "cell_type": "markdown",
   "id": "4984eb81-cc72-45c4-b1b4-f8a04c7d26d9",
   "metadata": {},
   "source": [
    "### Display the preprocessed data"
   ]
  },
  {
   "cell_type": "code",
   "execution_count": 23,
   "id": "fd795275-bb8e-4b32-bbcb-664512e46fb8",
   "metadata": {},
   "outputs": [
    {
     "name": "stdout",
     "output_type": "stream",
     "text": [
      "Preprocessed Data:\n",
      "        Age  Annual Income  Spending Score  \\\n",
      "0  0.166667       0.730511        0.888889   \n",
      "1  0.555556       0.917278        0.949495   \n",
      "2  0.611111       0.282798        0.757576   \n",
      "3  0.069444       0.196930        0.565657   \n",
      "4  0.083333       0.743143        0.757576   \n",
      "\n",
      "                            Customer ID  Gender  \n",
      "0  d410ea53-6661-42a9-ad3a-f554b05fd2a7    Male  \n",
      "1  1770b26f-493f-46b6-837f-4237fb5a314e  Female  \n",
      "2  e81aa8eb-1767-4b77-87ce-1620dc732c5e  Female  \n",
      "3  9795712a-ad19-47bf-8886-4f997d6046e3    Male  \n",
      "4  64139426-2226-4cd6-bf09-91bce4b4db5e    Male  \n"
     ]
    }
   ],
   "source": [
    "print(\"Preprocessed Data:\")\n",
    "print(data_preprocessed.head())"
   ]
  }
 ],
 "metadata": {
  "kernelspec": {
   "display_name": "Python 3 (ipykernel)",
   "language": "python",
   "name": "python3"
  },
  "language_info": {
   "codemirror_mode": {
    "name": "ipython",
    "version": 3
   },
   "file_extension": ".py",
   "mimetype": "text/x-python",
   "name": "python",
   "nbconvert_exporter": "python",
   "pygments_lexer": "ipython3",
   "version": "3.11.7"
  }
 },
 "nbformat": 4,
 "nbformat_minor": 5
}
